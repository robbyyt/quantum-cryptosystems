{
 "cells": [
  {
   "cell_type": "code",
   "execution_count": 211,
   "metadata": {},
   "outputs": [],
   "source": [
    "from abc import ABC, abstractmethod\n",
    "\n",
    "class LinearCode(ABC):\n",
    "    \n",
    "    def __init__(self, code=None):\n",
    "        self.code = code\n",
    "    \n",
    "    def set_code(self, code):\n",
    "        self.code = code\n",
    "    \n",
    "    def get_code(self):\n",
    "        return self.code\n",
    "    \n",
    "    @abstractmethod\n",
    "    def get_parity_check_matrix(self):\n",
    "        ...\n",
    "                \n",
    "    @staticmethod\n",
    "    def serialize_instance(self, target_file_name):\n",
    "        pass\n",
    "    \n",
    "    @staticmethod\n",
    "    def load_from_file(self):\n",
    "        pass"
   ]
  },
  {
   "cell_type": "code",
   "execution_count": 212,
   "metadata": {},
   "outputs": [],
   "source": [
    "class GRSCode(LinearCode):\n",
    "    \n",
    "    def __init__(self, code=None, n=10, k=5, q=11):\n",
    "        if code == None:\n",
    "            self.code = self.generate_code(n, k, q)\n",
    "        else:\n",
    "            self.code = code\n",
    "    \n",
    "    def get_parity_check_matrix(self):\n",
    "        return self.code.parity_check_matrix()\n",
    "    \n",
    "    def generate_code(self, n, k, q):\n",
    "        F = GF(q)\n",
    "        return codes.GeneralizedReedSolomonCode(F.list()[:n], k)"
   ]
  },
  {
   "cell_type": "code",
   "execution_count": 213,
   "metadata": {},
   "outputs": [
    {
     "name": "stdout",
     "output_type": "stream",
     "text": [
      "[10  9  8  7  6  5  4  3  2  1]\n",
      "[ 0  9  5 10  2  3  2 10  5  9]\n",
      "[ 0  9 10  8  8  4  1  4  7  4]\n",
      "[ 0  9  9  2 10  9  6  6  1  3]\n",
      "[ 0  9  7  6  7  1  3  9  8  5]\n"
     ]
    }
   ],
   "source": [
    "code = GRSCode()\n",
    "print(code.get_parity_check_matrix())"
   ]
  },
  {
   "cell_type": "code",
   "execution_count": 214,
   "metadata": {},
   "outputs": [],
   "source": [
    "\n",
    "class CodeBasedCryptosystem(ABC):\n",
    "    def __init__(self, code, public_key=None, private_key=None):\n",
    "        self.code = code\n",
    "        if public_key == None or private_key == None:\n",
    "            self.public_key, self.private_key = self.generate_keypair()\n",
    "        else:\n",
    "            self.public_key = public_key\n",
    "            self.private_key = private_key\n",
    "    \n",
    "    @abstractmethod\n",
    "    def generate_keypair(self):\n",
    "        ...\n",
    "    \n",
    "    @abstractmethod\n",
    "    def encrypt(self, message):\n",
    "        ...\n",
    "    \n",
    "    @abstractmethod\n",
    "    def decrypt(self, cryptotext):\n",
    "        ..."
   ]
  },
  {
   "cell_type": "code",
   "execution_count": 277,
   "metadata": {},
   "outputs": [],
   "source": [
    "from math import floor\n",
    "\n",
    "class Niederreiter(CodeBasedCryptosystem):\n",
    "    def generate_random_nonsingular_matrix(self, size):\n",
    "        S = random_matrix(ZZ, size)\n",
    "        \n",
    "        while not S.is_singular() and S.determinant()==0:\n",
    "            S = random_matrix(ZZ, size)\n",
    "        \n",
    "        return S\n",
    "    \n",
    "    def generate_random_permutation_matrix(self, n):\n",
    "        return Permutations(n).random_element().to_matrix()\n",
    "    \n",
    "    def encode_(self, n, t):\n",
    "        enc = [0]*n\n",
    "        count = t\n",
    "        while count>0:\n",
    "            r = randrange(n)\n",
    "            if enc[r] == 0:\n",
    "                enc[r]+=1\n",
    "                count-=1\n",
    "        return matrix(QQ, enc)\n",
    "    \n",
    "    def encrypt(self, message=None):\n",
    "        H_pub, t = self.public_key\n",
    "        n = H_pub.ncols()\n",
    "        \n",
    "        if message == None:\n",
    "            message = self.encode_(n, t)\n",
    "        \n",
    "        print(\"Message is: \"+ str(message))\n",
    "        \n",
    "        return H_pub * message.transpose()\n",
    "        \n",
    "    \n",
    "    def decrypt(self, cryptotext):\n",
    "        H, S, P = self.private_key\n",
    "        #print(cryptotext)\n",
    "        print(\"SIZES \\n\")\n",
    "        print((~S).nrows(), (~S).ncols())\n",
    "        \n",
    "        HPMt = (~S) * cryptotext\n",
    "        return HPMt\n",
    "        \n",
    "    \n",
    "    def generate_keypair(self):\n",
    "        H = code.get_parity_check_matrix()\n",
    "        n, k = H.ncols(), H.nrows()\n",
    "        S = self.generate_random_nonsingular_matrix(n - k)\n",
    "        P = self.generate_random_permutation_matrix(n)\n",
    "        t = floor((n - k) / 2)\n",
    "        \n",
    "        return ((S * H * P, t), (H, S, P))"
   ]
  },
  {
   "cell_type": "code",
   "execution_count": 278,
   "metadata": {
    "scrolled": true
   },
   "outputs": [
    {
     "name": "stdout",
     "output_type": "stream",
     "text": [
      "([ 1  5  1  7  8  3 10  1  0  8]\n",
      "[ 2 10  1  0  0  2  7  3  8  0]\n",
      "[ 8  6  6  0  9  9  6  3 10  9]\n",
      "[ 4  7  0  1  1  7  8  9  7  0]\n",
      "[ 0  1  7 10  6  9  1  0  3  7], 2)\n",
      "([10  9  8  7  6  5  4  3  2  1]\n",
      "[ 0  9  5 10  2  3  2 10  5  9]\n",
      "[ 0  9 10  8  8  4  1  4  7  4]\n",
      "[ 0  9  9  2 10  9  6  6  1  3]\n",
      "[ 0  9  7  6  7  1  3  9  8  5], [  4   6   1   1  -7]\n",
      "[  0  -1   2   4   0]\n",
      "[-11   1  -3  -3   2]\n",
      "[ -1  -1  -2   1  -8]\n",
      "[  1   0  -1   0   2], [0 0 0 1 0 0 0 0 0 0]\n",
      "[0 0 1 0 0 0 0 0 0 0]\n",
      "[0 0 0 0 0 0 1 0 0 0]\n",
      "[0 0 0 0 0 0 0 1 0 0]\n",
      "[0 1 0 0 0 0 0 0 0 0]\n",
      "[0 0 0 0 0 0 0 0 1 0]\n",
      "[0 0 0 0 0 1 0 0 0 0]\n",
      "[0 0 0 0 1 0 0 0 0 0]\n",
      "[1 0 0 0 0 0 0 0 0 0]\n",
      "[0 0 0 0 0 0 0 0 0 1])\n"
     ]
    }
   ],
   "source": [
    "nied = Niederreiter(code=code)\n",
    "print(nied.public_key)\n",
    "print(nied.private_key)"
   ]
  },
  {
   "cell_type": "code",
   "execution_count": 279,
   "metadata": {
    "scrolled": true
   },
   "outputs": [
    {
     "name": "stdout",
     "output_type": "stream",
     "text": [
      "Message is: [0 1 0 0 0 0 0 0 1 0]\n"
     ]
    },
    {
     "ename": "TypeError",
     "evalue": "unsupported operand parent(s) for *: 'Full MatrixSpace of 5 by 10 dense matrices over Finite Field of size 11' and 'Full MatrixSpace of 10 by 1 dense matrices over Rational Field'",
     "output_type": "error",
     "traceback": [
      "\u001b[0;31m---------------------------------------------------------------------------\u001b[0m",
      "\u001b[0;31mTypeError\u001b[0m                                 Traceback (most recent call last)",
      "\u001b[0;32m<ipython-input-279-12d32d1d9750>\u001b[0m in \u001b[0;36m<module>\u001b[0;34m\u001b[0m\n\u001b[0;32m----> 1\u001b[0;31m \u001b[0menc\u001b[0m \u001b[0;34m=\u001b[0m \u001b[0mnied\u001b[0m\u001b[0;34m.\u001b[0m\u001b[0mencrypt\u001b[0m\u001b[0;34m(\u001b[0m\u001b[0;34m)\u001b[0m\u001b[0;34m\u001b[0m\u001b[0;34m\u001b[0m\u001b[0m\n\u001b[0m\u001b[1;32m      2\u001b[0m \u001b[0mprint\u001b[0m\u001b[0;34m(\u001b[0m\u001b[0;34m\"Encrypted message is: \\n\"\u001b[0m\u001b[0;34m+\u001b[0m\u001b[0mstr\u001b[0m\u001b[0;34m(\u001b[0m\u001b[0menc\u001b[0m\u001b[0;34m)\u001b[0m\u001b[0;34m)\u001b[0m\u001b[0;34m\u001b[0m\u001b[0;34m\u001b[0m\u001b[0m\n\u001b[1;32m      3\u001b[0m \u001b[0mdec\u001b[0m \u001b[0;34m=\u001b[0m \u001b[0mnied\u001b[0m\u001b[0;34m.\u001b[0m\u001b[0mdecrypt\u001b[0m\u001b[0;34m(\u001b[0m\u001b[0menc\u001b[0m\u001b[0;34m)\u001b[0m\u001b[0;34m\u001b[0m\u001b[0;34m\u001b[0m\u001b[0m\n\u001b[1;32m      4\u001b[0m \u001b[0mprint\u001b[0m\u001b[0;34m(\u001b[0m\u001b[0;34m\"Decrypted message is: \"\u001b[0m\u001b[0;34m+\u001b[0m\u001b[0mstr\u001b[0m\u001b[0;34m(\u001b[0m\u001b[0mdec\u001b[0m\u001b[0;34m)\u001b[0m\u001b[0;34m)\u001b[0m\u001b[0;34m\u001b[0m\u001b[0;34m\u001b[0m\u001b[0m\n",
      "\u001b[0;32m<ipython-input-277-83373c363332>\u001b[0m in \u001b[0;36mencrypt\u001b[0;34m(self, message)\u001b[0m\n\u001b[1;32m     32\u001b[0m         \u001b[0mprint\u001b[0m\u001b[0;34m(\u001b[0m\u001b[0;34m\"Message is: \"\u001b[0m\u001b[0;34m+\u001b[0m \u001b[0mstr\u001b[0m\u001b[0;34m(\u001b[0m\u001b[0mmessage\u001b[0m\u001b[0;34m)\u001b[0m\u001b[0;34m)\u001b[0m\u001b[0;34m\u001b[0m\u001b[0;34m\u001b[0m\u001b[0m\n\u001b[1;32m     33\u001b[0m \u001b[0;34m\u001b[0m\u001b[0m\n\u001b[0;32m---> 34\u001b[0;31m         \u001b[0;32mreturn\u001b[0m \u001b[0mH_pub\u001b[0m \u001b[0;34m*\u001b[0m \u001b[0mmessage\u001b[0m\u001b[0;34m.\u001b[0m\u001b[0mtranspose\u001b[0m\u001b[0;34m(\u001b[0m\u001b[0;34m)\u001b[0m\u001b[0;34m\u001b[0m\u001b[0;34m\u001b[0m\u001b[0m\n\u001b[0m\u001b[1;32m     35\u001b[0m \u001b[0;34m\u001b[0m\u001b[0m\n\u001b[1;32m     36\u001b[0m \u001b[0;34m\u001b[0m\u001b[0m\n",
      "\u001b[0;32m/opt/sagemath-9.2/local/lib/python3.7/site-packages/sage/structure/element.pyx\u001b[0m in \u001b[0;36msage.structure.element.Matrix.__mul__ (build/cythonized/sage/structure/element.c:23925)\u001b[0;34m()\u001b[0m\n\u001b[1;32m   3813\u001b[0m \u001b[0;34m\u001b[0m\u001b[0m\n\u001b[1;32m   3814\u001b[0m         \u001b[0;32mif\u001b[0m \u001b[0mBOTH_ARE_ELEMENT\u001b[0m\u001b[0;34m(\u001b[0m\u001b[0mcl\u001b[0m\u001b[0;34m)\u001b[0m\u001b[0;34m:\u001b[0m\u001b[0;34m\u001b[0m\u001b[0;34m\u001b[0m\u001b[0m\n\u001b[0;32m-> 3815\u001b[0;31m             \u001b[0;32mreturn\u001b[0m \u001b[0mcoercion_model\u001b[0m\u001b[0;34m.\u001b[0m\u001b[0mbin_op\u001b[0m\u001b[0;34m(\u001b[0m\u001b[0mleft\u001b[0m\u001b[0;34m,\u001b[0m \u001b[0mright\u001b[0m\u001b[0;34m,\u001b[0m \u001b[0mmul\u001b[0m\u001b[0;34m)\u001b[0m\u001b[0;34m\u001b[0m\u001b[0;34m\u001b[0m\u001b[0m\n\u001b[0m\u001b[1;32m   3816\u001b[0m \u001b[0;34m\u001b[0m\u001b[0m\n\u001b[1;32m   3817\u001b[0m         \u001b[0mcdef\u001b[0m \u001b[0mlong\u001b[0m \u001b[0mvalue\u001b[0m\u001b[0;34m\u001b[0m\u001b[0;34m\u001b[0m\u001b[0m\n",
      "\u001b[0;32m/opt/sagemath-9.2/local/lib/python3.7/site-packages/sage/structure/coerce.pyx\u001b[0m in \u001b[0;36msage.structure.coerce.CoercionModel.bin_op (build/cythonized/sage/structure/coerce.c:11304)\u001b[0;34m()\u001b[0m\n\u001b[1;32m   1246\u001b[0m         \u001b[0;31m# We should really include the underlying error.\u001b[0m\u001b[0;34m\u001b[0m\u001b[0;34m\u001b[0m\u001b[0;34m\u001b[0m\u001b[0m\n\u001b[1;32m   1247\u001b[0m         \u001b[0;31m# This causes so much headache.\u001b[0m\u001b[0;34m\u001b[0m\u001b[0;34m\u001b[0m\u001b[0;34m\u001b[0m\u001b[0m\n\u001b[0;32m-> 1248\u001b[0;31m         \u001b[0;32mraise\u001b[0m \u001b[0mbin_op_exception\u001b[0m\u001b[0;34m(\u001b[0m\u001b[0mop\u001b[0m\u001b[0;34m,\u001b[0m \u001b[0mx\u001b[0m\u001b[0;34m,\u001b[0m \u001b[0my\u001b[0m\u001b[0;34m)\u001b[0m\u001b[0;34m\u001b[0m\u001b[0;34m\u001b[0m\u001b[0m\n\u001b[0m\u001b[1;32m   1249\u001b[0m \u001b[0;34m\u001b[0m\u001b[0m\n\u001b[1;32m   1250\u001b[0m     \u001b[0mcpdef\u001b[0m \u001b[0mcanonical_coercion\u001b[0m\u001b[0;34m(\u001b[0m\u001b[0mself\u001b[0m\u001b[0;34m,\u001b[0m \u001b[0mx\u001b[0m\u001b[0;34m,\u001b[0m \u001b[0my\u001b[0m\u001b[0;34m)\u001b[0m\u001b[0;34m:\u001b[0m\u001b[0;34m\u001b[0m\u001b[0;34m\u001b[0m\u001b[0m\n",
      "\u001b[0;31mTypeError\u001b[0m: unsupported operand parent(s) for *: 'Full MatrixSpace of 5 by 10 dense matrices over Finite Field of size 11' and 'Full MatrixSpace of 10 by 1 dense matrices over Rational Field'"
     ]
    }
   ],
   "source": [
    "enc = nied.encrypt()\n",
    "print(\"Encrypted message is: \\n\"+str(enc))\n",
    "dec = nied.decrypt(enc)\n",
    "print(\"Decrypted message is: \"+str(dec))"
   ]
  }
 ],
 "metadata": {
  "kernelspec": {
   "display_name": "SageMath 9.2",
   "language": "sage",
   "name": "sagemath"
  },
  "language_info": {
   "codemirror_mode": {
    "name": "ipython",
    "version": 3
   },
   "file_extension": ".py",
   "mimetype": "text/x-python",
   "name": "python",
   "nbconvert_exporter": "python",
   "pygments_lexer": "ipython3",
   "version": "3.7.7"
  }
 },
 "nbformat": 4,
 "nbformat_minor": 4
}
