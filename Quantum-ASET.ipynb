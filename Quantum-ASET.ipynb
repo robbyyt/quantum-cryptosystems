{
 "cells": [
  {
   "cell_type": "code",
   "execution_count": 5,
   "metadata": {},
   "outputs": [],
   "source": [
    "from abc import ABC, abstractmethod\n",
    "\n",
    "class LinearCode(ABC):\n",
    "    \n",
    "    def __init__(self, code=None):\n",
    "        self.code = code\n",
    "    \n",
    "    def set_code(self, code):\n",
    "        self.code = code\n",
    "    \n",
    "    def get_code(self):\n",
    "        return self.code\n",
    "    \n",
    "    @abstractmethod\n",
    "    def get_parity_check_matrix(self):\n",
    "        ...\n",
    "                \n",
    "    @staticmethod\n",
    "    def serialize_instance(self, target_file_name):\n",
    "        pass\n",
    "    \n",
    "    @staticmethod\n",
    "    def load_from_file(self):\n",
    "        pass"
   ]
  },
  {
   "cell_type": "code",
   "execution_count": 6,
   "metadata": {},
   "outputs": [],
   "source": [
    "class GRSCode(LinearCode):\n",
    "    \n",
    "    def __init__(self, code=None, n=10, k=5, q=11):\n",
    "        if code == None:\n",
    "            self.code = self.generate_code(n, k, q)\n",
    "            self.decoder = codes.decoders.GRSKeyEquationSyndromeDecoder(self.code)\n",
    "            self.ambient_space = self.code.ambient_space()\n",
    "        else:\n",
    "            self.code = code\n",
    "            self.decoder = codes.decoders.GRSKeyEquationSyndromeDecoder(self.code)\n",
    "            self.ambient_space = self.code.ambient_space()\n",
    "    \n",
    "    def get_parity_check_matrix(self):\n",
    "        return self.code.parity_check_matrix()\n",
    "    \n",
    "    def generate_code(self, n, k, q):\n",
    "        F = GF(q)\n",
    "        return codes.GeneralizedReedSolomonCode(F.list()[1:n+1], k)"
   ]
  },
  {
   "cell_type": "code",
   "execution_count": 7,
   "metadata": {},
   "outputs": [
    {
     "name": "stdout",
     "output_type": "stream",
     "text": [
      "[10  9  8  7  6  5  4  3  2  1]\n",
      "[10  7  2  6  8  8  6  2  7 10]\n",
      "[10  3  6  2  7  4  9  5  8  1]\n",
      "[10  6  7  8  2  2  8  7  6 10]\n",
      "[10  1 10 10 10  1  1  1 10  1]\n"
     ]
    }
   ],
   "source": [
    "code = GRSCode()\n",
    "print(code.get_parity_check_matrix())"
   ]
  },
  {
   "cell_type": "code",
   "execution_count": 8,
   "metadata": {},
   "outputs": [],
   "source": [
    "\n",
    "class CodeBasedCryptosystem(ABC):\n",
    "    def __init__(self, code, public_key=None, private_key=None):\n",
    "        self.code = code\n",
    "        self.decoder = code.decoder\n",
    "        self.ambient_space = code.ambient_space\n",
    "        if public_key == None or private_key == None:\n",
    "            self.public_key, self.private_key = self.generate_keypair()\n",
    "        else:\n",
    "            self.public_key = public_key\n",
    "            self.private_key = private_key\n",
    "    \n",
    "    @abstractmethod\n",
    "    def generate_keypair(self):\n",
    "        ...\n",
    "    \n",
    "    @abstractmethod\n",
    "    def encrypt(self, message):\n",
    "        ...\n",
    "    \n",
    "    @abstractmethod\n",
    "    def decrypt(self, cryptotext):\n",
    "        ..."
   ]
  },
  {
   "cell_type": "code",
   "execution_count": 9,
   "metadata": {},
   "outputs": [],
   "source": [
    "from math import floor\n",
    "\n",
    "class Niederreiter(CodeBasedCryptosystem):\n",
    "    def generate_random_nonsingular_matrix(self, size):\n",
    "        S = random_matrix(ZZ, size)\n",
    "        \n",
    "        while not S.is_singular() and S.determinant()==0:\n",
    "            S = random_matrix(ZZ, size)\n",
    "        \n",
    "        return S\n",
    "    \n",
    "    def generate_random_permutation_matrix(self, n):\n",
    "        return Permutations(n).random_element().to_matrix()\n",
    "    \n",
    "    def encode_(self, n, t):\n",
    "        enc = [0]*n\n",
    "        count = t\n",
    "        while count>0:\n",
    "            r = randrange(n)\n",
    "            if enc[r] == 0:\n",
    "                enc[r]+=1\n",
    "                count-=1\n",
    "        return matrix(enc)\n",
    "    \n",
    "    def encrypt(self, message=None):\n",
    "        H_pub, t = self.public_key\n",
    "        n = H_pub.ncols()\n",
    "        \n",
    "        if message == None:\n",
    "            message = self.encode_(n, t)\n",
    "        \n",
    "        print(\"Message is: \"+ str(message))\n",
    "        \n",
    "        return matrix(QQ, H_pub) * matrix(QQ, message.transpose())\n",
    "        \n",
    "    \n",
    "    def decrypt(self, cryptotext):\n",
    "        H, S, P = self.private_key\n",
    "        HPMt = (~S) * cryptotext\n",
    "        PMt = self.decoder.decode_to_code(HPMt)\n",
    "        return (matrix(QQ, (~P)) * matrix(QQ, PMt)).transpose()\n",
    "        \n",
    "    \n",
    "    def generate_keypair(self):\n",
    "        H = code.get_parity_check_matrix()\n",
    "        n, k = H.ncols(), H.nrows()\n",
    "        S = self.generate_random_nonsingular_matrix(n - k)\n",
    "        P = self.generate_random_permutation_matrix(n)\n",
    "        t = floor((n - k) / 2)\n",
    "        \n",
    "        return ((S * H * P, t), (H, S, P))"
   ]
  },
  {
   "cell_type": "code",
   "execution_count": 10,
   "metadata": {
    "scrolled": true
   },
   "outputs": [
    {
     "name": "stdout",
     "output_type": "stream",
     "text": [
      "([ 9  7  5 10  8  3  8  2  5  9]\n",
      "[ 7  7  2  9  8 10  3  2  3  4]\n",
      "[ 3  7  1  9  8  5  2  4  4  1]\n",
      "[ 2  4  1  7  1  6  7  0  7  9]\n",
      "[ 2  3  6  2  9  8  5  5  5 10], 2)\n",
      "([10  9  8  7  6  5  4  3  2  1]\n",
      "[10  7  2  6  8  8  6  2  7 10]\n",
      "[10  3  6  2  7  4  9  5  8  1]\n",
      "[10  6  7  8  2  2  8  7  6 10]\n",
      "[10  1 10 10 10  1  1  1 10  1], [ 0  2  1  1  9]\n",
      "[ 1  1 -1  3  0]\n",
      "[ 1 11 -2  6  3]\n",
      "[ 0  0  1 -3  0]\n",
      "[-3  4 -1 -1 -1], [1 0 0 0 0 0 0 0 0 0]\n",
      "[0 0 0 1 0 0 0 0 0 0]\n",
      "[0 0 0 0 0 0 1 0 0 0]\n",
      "[0 0 0 0 0 0 0 1 0 0]\n",
      "[0 0 1 0 0 0 0 0 0 0]\n",
      "[0 0 0 0 0 0 0 0 0 1]\n",
      "[0 0 0 0 0 0 0 0 1 0]\n",
      "[0 0 0 0 0 1 0 0 0 0]\n",
      "[0 0 0 0 1 0 0 0 0 0]\n",
      "[0 1 0 0 0 0 0 0 0 0])\n"
     ]
    }
   ],
   "source": [
    "nied = Niederreiter(code=code)\n",
    "print(nied.public_key)\n",
    "print(nied.private_key)"
   ]
  },
  {
   "cell_type": "code",
   "execution_count": 11,
   "metadata": {
    "scrolled": true
   },
   "outputs": [
    {
     "name": "stdout",
     "output_type": "stream",
     "text": [
      "Message is: [0 0 0 1 0 0 0 1 0 0]\n",
      "Encrypted message is: \n",
      "[12]\n",
      "[11]\n",
      "[13]\n",
      "[ 7]\n",
      "[ 7]\n"
     ]
    },
    {
     "ename": "ValueError",
     "evalue": "The word to decode has to be in the ambient space of the code",
     "output_type": "error",
     "traceback": [
      "\u001b[0;31m---------------------------------------------------------------------------\u001b[0m",
      "\u001b[0;31mValueError\u001b[0m                                Traceback (most recent call last)",
      "\u001b[0;32m<ipython-input-11-12d32d1d9750>\u001b[0m in \u001b[0;36m<module>\u001b[0;34m\u001b[0m\n\u001b[1;32m      1\u001b[0m \u001b[0menc\u001b[0m \u001b[0;34m=\u001b[0m \u001b[0mnied\u001b[0m\u001b[0;34m.\u001b[0m\u001b[0mencrypt\u001b[0m\u001b[0;34m(\u001b[0m\u001b[0;34m)\u001b[0m\u001b[0;34m\u001b[0m\u001b[0;34m\u001b[0m\u001b[0m\n\u001b[1;32m      2\u001b[0m \u001b[0mprint\u001b[0m\u001b[0;34m(\u001b[0m\u001b[0;34m\"Encrypted message is: \\n\"\u001b[0m\u001b[0;34m+\u001b[0m\u001b[0mstr\u001b[0m\u001b[0;34m(\u001b[0m\u001b[0menc\u001b[0m\u001b[0;34m)\u001b[0m\u001b[0;34m)\u001b[0m\u001b[0;34m\u001b[0m\u001b[0;34m\u001b[0m\u001b[0m\n\u001b[0;32m----> 3\u001b[0;31m \u001b[0mdec\u001b[0m \u001b[0;34m=\u001b[0m \u001b[0mnied\u001b[0m\u001b[0;34m.\u001b[0m\u001b[0mdecrypt\u001b[0m\u001b[0;34m(\u001b[0m\u001b[0menc\u001b[0m\u001b[0;34m)\u001b[0m\u001b[0;34m\u001b[0m\u001b[0;34m\u001b[0m\u001b[0m\n\u001b[0m\u001b[1;32m      4\u001b[0m \u001b[0mprint\u001b[0m\u001b[0;34m(\u001b[0m\u001b[0;34m\"Decrypted message is: \"\u001b[0m\u001b[0;34m+\u001b[0m\u001b[0mstr\u001b[0m\u001b[0;34m(\u001b[0m\u001b[0mdec\u001b[0m\u001b[0;34m)\u001b[0m\u001b[0;34m)\u001b[0m\u001b[0;34m\u001b[0m\u001b[0;34m\u001b[0m\u001b[0m\n",
      "\u001b[0;32m<ipython-input-9-ababb939b693>\u001b[0m in \u001b[0;36mdecrypt\u001b[0;34m(self, cryptotext)\u001b[0m\n\u001b[1;32m     38\u001b[0m         \u001b[0mH\u001b[0m\u001b[0;34m,\u001b[0m \u001b[0mS\u001b[0m\u001b[0;34m,\u001b[0m \u001b[0mP\u001b[0m \u001b[0;34m=\u001b[0m \u001b[0mself\u001b[0m\u001b[0;34m.\u001b[0m\u001b[0mprivate_key\u001b[0m\u001b[0;34m\u001b[0m\u001b[0;34m\u001b[0m\u001b[0m\n\u001b[1;32m     39\u001b[0m         \u001b[0mHPMt\u001b[0m \u001b[0;34m=\u001b[0m \u001b[0;34m(\u001b[0m\u001b[0;34m~\u001b[0m\u001b[0mS\u001b[0m\u001b[0;34m)\u001b[0m \u001b[0;34m*\u001b[0m \u001b[0mcryptotext\u001b[0m\u001b[0;34m\u001b[0m\u001b[0;34m\u001b[0m\u001b[0m\n\u001b[0;32m---> 40\u001b[0;31m         \u001b[0mPMt\u001b[0m \u001b[0;34m=\u001b[0m \u001b[0mself\u001b[0m\u001b[0;34m.\u001b[0m\u001b[0mdecoder\u001b[0m\u001b[0;34m.\u001b[0m\u001b[0mdecode_to_code\u001b[0m\u001b[0;34m(\u001b[0m\u001b[0mHPMt\u001b[0m\u001b[0;34m)\u001b[0m\u001b[0;34m\u001b[0m\u001b[0;34m\u001b[0m\u001b[0m\n\u001b[0m\u001b[1;32m     41\u001b[0m         \u001b[0;32mreturn\u001b[0m \u001b[0;34m(\u001b[0m\u001b[0mmatrix\u001b[0m\u001b[0;34m(\u001b[0m\u001b[0mQQ\u001b[0m\u001b[0;34m,\u001b[0m \u001b[0;34m(\u001b[0m\u001b[0;34m~\u001b[0m\u001b[0mP\u001b[0m\u001b[0;34m)\u001b[0m\u001b[0;34m)\u001b[0m \u001b[0;34m*\u001b[0m \u001b[0mmatrix\u001b[0m\u001b[0;34m(\u001b[0m\u001b[0mQQ\u001b[0m\u001b[0;34m,\u001b[0m \u001b[0mPMt\u001b[0m\u001b[0;34m)\u001b[0m\u001b[0;34m)\u001b[0m\u001b[0;34m.\u001b[0m\u001b[0mtranspose\u001b[0m\u001b[0;34m(\u001b[0m\u001b[0;34m)\u001b[0m\u001b[0;34m\u001b[0m\u001b[0;34m\u001b[0m\u001b[0m\n\u001b[1;32m     42\u001b[0m \u001b[0;34m\u001b[0m\u001b[0m\n",
      "\u001b[0;32m/opt/sagemath-9.2/local/lib/python3.7/site-packages/sage/coding/grs_code.py\u001b[0m in \u001b[0;36mdecode_to_code\u001b[0;34m(self, r)\u001b[0m\n\u001b[1;32m   2299\u001b[0m         \u001b[0mC\u001b[0m \u001b[0;34m=\u001b[0m \u001b[0mself\u001b[0m\u001b[0;34m.\u001b[0m\u001b[0mcode\u001b[0m\u001b[0;34m(\u001b[0m\u001b[0;34m)\u001b[0m\u001b[0;34m\u001b[0m\u001b[0;34m\u001b[0m\u001b[0m\n\u001b[1;32m   2300\u001b[0m         \u001b[0;32mif\u001b[0m \u001b[0mr\u001b[0m \u001b[0;32mnot\u001b[0m \u001b[0;32min\u001b[0m \u001b[0mC\u001b[0m\u001b[0;34m.\u001b[0m\u001b[0mambient_space\u001b[0m\u001b[0;34m(\u001b[0m\u001b[0;34m)\u001b[0m\u001b[0;34m:\u001b[0m\u001b[0;34m\u001b[0m\u001b[0;34m\u001b[0m\u001b[0m\n\u001b[0;32m-> 2301\u001b[0;31m             \u001b[0;32mraise\u001b[0m \u001b[0mValueError\u001b[0m\u001b[0;34m(\u001b[0m\u001b[0;34m\"The word to decode has to be in the ambient space of the code\"\u001b[0m\u001b[0;34m)\u001b[0m\u001b[0;34m\u001b[0m\u001b[0;34m\u001b[0m\u001b[0m\n\u001b[0m\u001b[1;32m   2302\u001b[0m         \u001b[0mPolRing\u001b[0m \u001b[0;34m=\u001b[0m \u001b[0mC\u001b[0m\u001b[0;34m.\u001b[0m\u001b[0mbase_field\u001b[0m\u001b[0;34m(\u001b[0m\u001b[0;34m)\u001b[0m\u001b[0;34m[\u001b[0m\u001b[0;34m'x'\u001b[0m\u001b[0;34m]\u001b[0m\u001b[0;34m\u001b[0m\u001b[0;34m\u001b[0m\u001b[0m\n\u001b[1;32m   2303\u001b[0m         \u001b[0mx\u001b[0m \u001b[0;34m=\u001b[0m \u001b[0mPolRing\u001b[0m\u001b[0;34m.\u001b[0m\u001b[0mgen\u001b[0m\u001b[0;34m(\u001b[0m\u001b[0;34m)\u001b[0m\u001b[0;34m\u001b[0m\u001b[0;34m\u001b[0m\u001b[0m\n",
      "\u001b[0;31mValueError\u001b[0m: The word to decode has to be in the ambient space of the code"
     ]
    }
   ],
   "source": [
    "enc = nied.encrypt()\n",
    "print(\"Encrypted message is: \\n\"+str(enc))\n",
    "dec = nied.decrypt(enc)\n",
    "print(\"Decrypted message is: \"+str(dec))"
   ]
  },
  {
   "cell_type": "code",
   "execution_count": 12,
   "metadata": {},
   "outputs": [],
   "source": [
    "class GenericAttack(ABC):\n",
    "    def __init__(self, H, syndrome, t):\n",
    "        self.H = H\n",
    "        self.syndrome = syndrome\n",
    "        self.t = t\n",
    "        \n",
    "    @abstractmethod\n",
    "    def attack(self):\n",
    "        ..."
   ]
  },
  {
   "cell_type": "code",
   "execution_count": 13,
   "metadata": {},
   "outputs": [],
   "source": [
    "class PrangeISD(GenericAttack):\n",
    "    def innerLoop(self):\n",
    "        pass\n",
    "    def attack(self):\n",
    "        pass"
   ]
  }
 ],
 "metadata": {
  "kernelspec": {
   "display_name": "SageMath 9.2",
   "language": "sage",
   "name": "sagemath"
  },
  "language_info": {
   "codemirror_mode": {
    "name": "ipython",
    "version": 3
   },
   "file_extension": ".py",
   "mimetype": "text/x-python",
   "name": "python",
   "nbconvert_exporter": "python",
   "pygments_lexer": "ipython3",
   "version": "3.7.7"
  }
 },
 "nbformat": 4,
 "nbformat_minor": 4
}
