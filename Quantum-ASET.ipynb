{
 "cells": [
  {
   "cell_type": "code",
   "execution_count": 1,
   "metadata": {},
   "outputs": [],
   "source": [
    "from abc import ABC, abstractmethod\n",
    "\n",
    "class LinearCode(ABC):\n",
    "    \n",
    "    def __init__(self, code=None):\n",
    "        self.code = code\n",
    "    \n",
    "    def set_code(self, code):\n",
    "        self.code = code\n",
    "    \n",
    "    def get_code(self):\n",
    "        return self.code\n",
    "    \n",
    "    @abstractmethod\n",
    "    def get_parity_check_matrix(self):\n",
    "        ...\n",
    "                \n",
    "    @staticmethod\n",
    "    def serialize_instance(self, target_file_name):\n",
    "        pass\n",
    "    \n",
    "    @staticmethod\n",
    "    def load_from_file(self):\n",
    "        pass"
   ]
  },
  {
   "cell_type": "code",
   "execution_count": 2,
   "metadata": {},
   "outputs": [],
   "source": [
    "class GRSCode(LinearCode):\n",
    "    \n",
    "    def __init__(self, code=None, n=10, k=5, q=11):\n",
    "        if code == None:\n",
    "            self.code = self.generate_code(n, k, q)\n",
    "        else:\n",
    "            self.code = code\n",
    "    \n",
    "    def get_parity_check_matrix(self):\n",
    "        return self.code.parity_check_matrix()\n",
    "    \n",
    "    def generate_code(self, n, k, q):\n",
    "        F = GF(q)\n",
    "        return codes.GeneralizedReedSolomonCode(F.list()[:n], k)"
   ]
  },
  {
   "cell_type": "code",
   "execution_count": 3,
   "metadata": {},
   "outputs": [
    {
     "name": "stdout",
     "output_type": "stream",
     "text": [
      "[10  9  8  7  6  5  4  3  2  1]\n",
      "[ 0  9  5 10  2  3  2 10  5  9]\n",
      "[ 0  9 10  8  8  4  1  4  7  4]\n",
      "[ 0  9  9  2 10  9  6  6  1  3]\n",
      "[ 0  9  7  6  7  1  3  9  8  5]\n"
     ]
    }
   ],
   "source": [
    "code = GRSCode()\n",
    "print(code.get_parity_check_matrix())"
   ]
  },
  {
   "cell_type": "code",
   "execution_count": 4,
   "metadata": {},
   "outputs": [],
   "source": [
    "\n",
    "class CodeBasedCryptosystem(ABC):\n",
    "    def __init__(self, code, public_key=None, private_key=None):\n",
    "        self.code = code\n",
    "        if public_key == None or private_key == None:\n",
    "            self.public_key, self.private_key = self.generate_keypair()\n",
    "        else:\n",
    "            self.public_key = public_key\n",
    "            self.private_key = private_key\n",
    "    \n",
    "    @abstractmethod\n",
    "    def generate_keypair(self):\n",
    "        ...\n",
    "    \n",
    "    @abstractmethod\n",
    "    def encrypt(self, message):\n",
    "        ...\n",
    "    \n",
    "    @abstractmethod\n",
    "    def decrypt(self, cryptotext):\n",
    "        ..."
   ]
  },
  {
   "cell_type": "code",
   "execution_count": 9,
   "metadata": {},
   "outputs": [],
   "source": [
    "from math import floor\n",
    "\n",
    "class Niederreiter(CodeBasedCryptosystem):\n",
    "    def generate_random_nonsingular_matrix(self, size):\n",
    "        S = random_matrix(ZZ, size)\n",
    "        \n",
    "        while not S.is_singular() and S.determinant()==0:\n",
    "            S = random_matrix(ZZ, size)\n",
    "        \n",
    "        return S\n",
    "    \n",
    "    def generate_random_permutation_matrix(self, n):\n",
    "        return Permutations(n).random_element().to_matrix()\n",
    "    \n",
    "    def encode_(self, n, t):\n",
    "        enc = [0]*n\n",
    "        count = t\n",
    "        while count>0:\n",
    "            r = randrange(n)\n",
    "            if enc[r] == 0:\n",
    "                enc[r]+=1\n",
    "                count-=1\n",
    "        return matrix(enc)\n",
    "    \n",
    "    def encrypt(self, message=None):\n",
    "        H_pub, t = self.public_key\n",
    "        n = H_pub.ncols()\n",
    "        \n",
    "        if message == None:\n",
    "            message = self.encode_(n, t)\n",
    "        \n",
    "#         print(\"Message is: \"+ str(message))\n",
    "        \n",
    "        return matrix(QQ, H_pub) * matrix(QQ, message.transpose())\n",
    "        \n",
    "    \n",
    "    def decrypt(self, cryptotext):\n",
    "        H, S, P = self.private_key\n",
    "        #print(cryptotext)\n",
    "        print(\"SIZES \\n\")\n",
    "        print((~S).nrows(), (~S).ncols())\n",
    "        \n",
    "        HPMt = (~S) * cryptotext\n",
    "        return HPMt\n",
    "        \n",
    "    \n",
    "    def generate_keypair(self):\n",
    "        H = code.get_parity_check_matrix()\n",
    "        n, k = H.ncols(), H.nrows()\n",
    "        S = self.generate_random_nonsingular_matrix(n - k)\n",
    "        P = self.generate_random_permutation_matrix(n)\n",
    "        t = floor((n - k) / 2)\n",
    "        \n",
    "        return ((S * H * P, t), (H, S, P))"
   ]
  },
  {
   "cell_type": "code",
   "execution_count": 6,
   "metadata": {
    "scrolled": true
   },
   "outputs": [
    {
     "name": "stdout",
     "output_type": "stream",
     "text": [
      "([ 1  1  5  4  6  4  6  6  2  9]\n",
      "[ 9  7  7  0  3  2  7  2  6  1]\n",
      "[10  3  8  5  2 10  3  5  0  9]\n",
      "[ 2  2  1  9  7  6  7  7  8  6]\n",
      "[ 0  9  5  6  6 10  8  4  7  0], 2)\n",
      "([10  9  8  7  6  5  4  3  2  1]\n",
      "[ 0  9  5 10  2  3  2 10  5  9]\n",
      "[ 0  9 10  8  8  4  1  4  7  4]\n",
      "[ 0  9  9  2 10  9  6  6  1  3]\n",
      "[ 0  9  7  6  7  1  3  9  8  5], [ -1 -10  -9 -38   1]\n",
      "[  2  -6  -2   3   2]\n",
      "[  1   4 -14  -6  -1]\n",
      "[ -2   0   3  -3  -1]\n",
      "[  0   0  -1  -4   0], [1 0 0 0 0 0 0 0 0 0]\n",
      "[0 0 0 0 0 1 0 0 0 0]\n",
      "[0 1 0 0 0 0 0 0 0 0]\n",
      "[0 0 0 1 0 0 0 0 0 0]\n",
      "[0 0 0 0 0 0 0 0 1 0]\n",
      "[0 0 0 0 0 0 0 1 0 0]\n",
      "[0 0 0 0 0 0 1 0 0 0]\n",
      "[0 0 1 0 0 0 0 0 0 0]\n",
      "[0 0 0 0 0 0 0 0 0 1]\n",
      "[0 0 0 0 1 0 0 0 0 0])\n"
     ]
    }
   ],
   "source": [
    "nied = Niederreiter(code=code)\n",
    "print(nied.public_key)\n",
    "print(nied.private_key)"
   ]
  },
  {
   "cell_type": "code",
   "execution_count": 17,
   "metadata": {
    "scrolled": true
   },
   "outputs": [
    {
     "name": "stdout",
     "output_type": "stream",
     "text": [
      "Message is: [0 0 0 1 0 0 0 1 0 0]\n",
      "Encrypted message is: \n",
      "[ 5]\n",
      "[16]\n",
      "[11]\n",
      "[ 4]\n",
      "[11]\n",
      "SIZES \n",
      "\n",
      "5 5\n",
      "Decrypted message is: [   579/632]\n",
      "[  -637/316]\n",
      "[-3803/2528]\n",
      "[-3069/2528]\n",
      "[ -411/1264]\n"
     ]
    }
   ],
   "source": [
    "enc = nied.encrypt()\n",
    "print(\"Encrypted message is: \\n\"+str(enc))\n",
    "dec = nied.decrypt(enc)\n",
    "print(\"Decrypted message is: \"+str(dec))"
   ]
  },
  {
   "cell_type": "code",
   "execution_count": 3,
   "metadata": {},
   "outputs": [],
   "source": [
    "class GenericAttack(ABC):\n",
    "    def __init__(self, H, syndrome, t):\n",
    "        self.H = H\n",
    "        self.syndrome = syndrome\n",
    "        self.t = t\n",
    "        \n",
    "    @abstractmethod\n",
    "    def attack(self):\n",
    "        ..."
   ]
  },
  {
   "cell_type": "code",
   "execution_count": 4,
   "metadata": {},
   "outputs": [],
   "source": [
    "class PrangeISD(GenericAttack):\n",
    "    def innerLoop(self):\n",
    "        pass\n",
    "    def attack(self):\n",
    "        pass"
   ]
  },
  {
   "cell_type": "code",
   "execution_count": 10,
   "metadata": {},
   "outputs": [],
   "source": [
    "import unittest\n",
    "\n",
    "class NiederreiterTestClass(unittest.TestCase):\n",
    "       \n",
    "    def test_key_generating(self):\n",
    "        \"\"\" The method is implemented \"\"\"\n",
    "        code_Nied = Niederreiter(code=code)\n",
    "        self.assertTrue(len(code_Nied.generate_keypair()[0]),2)\n",
    "    def test_encrypt(self):\n",
    "        \"\"\" The method is not implemented \"\"\"\n",
    "        code_Nied = Niederreiter(code=code)\n",
    "        self.assertTrue(len(code_Nied.encrypt()[0]),5)\n",
    "        "
   ]
  },
  {
   "cell_type": "code",
   "execution_count": 11,
   "metadata": {},
   "outputs": [
    {
     "name": "stderr",
     "output_type": "stream",
     "text": [
      "test_encrypt (__main__.NiederreiterTestClass)\n",
      "The method is not implemented ... ok\n",
      "test_key_generating (__main__.NiederreiterTestClass)\n",
      "The method is implemented ... ok\n",
      "\n",
      "----------------------------------------------------------------------\n",
      "Ran 2 tests in 0.008s\n",
      "\n",
      "OK\n"
     ]
    },
    {
     "data": {
      "text/plain": [
       "<unittest.runner.TextTestResult run=2 errors=0 failures=0>"
      ]
     },
     "execution_count": 11,
     "metadata": {},
     "output_type": "execute_result"
    }
   ],
   "source": [
    "import sys\n",
    "suite = unittest.TestLoader().loadTestsFromTestCase(NiederreiterTestClass)\n",
    "unittest.TextTestRunner(verbosity=2,stream=sys.stderr).run(suite)"
   ]
  },
  {
   "cell_type": "code",
   "execution_count": null,
   "metadata": {},
   "outputs": [],
   "source": []
  }
 ],
 "metadata": {
  "kernelspec": {
   "display_name": "SageMath 9.3",
   "language": "sage",
   "name": "sagemath"
  },
  "language_info": {
   "codemirror_mode": {
    "name": "ipython",
    "version": 3
   },
   "file_extension": ".py",
   "mimetype": "text/x-python",
   "name": "python",
   "nbconvert_exporter": "python",
   "pygments_lexer": "ipython3",
   "version": "3.7.10"
  }
 },
 "nbformat": 4,
 "nbformat_minor": 4
}
