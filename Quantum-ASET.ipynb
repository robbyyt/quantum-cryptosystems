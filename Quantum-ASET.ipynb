{
 "cells": [
  {
   "cell_type": "code",
   "execution_count": 1,
   "metadata": {},
   "outputs": [],
   "source": [
    "from abc import ABC, abstractmethod\n",
    "\n",
    "class LinearCode(ABC):\n",
    "    \n",
    "    def __init__(self, code=None):\n",
    "        self.code = code\n",
    "    \n",
    "    def set_code(self, code):\n",
    "        self.code = code\n",
    "    \n",
    "    def get_code(self):\n",
    "        return self.code\n",
    "    \n",
    "    @abstractmethod\n",
    "    def get_parity_check_matrix(self):\n",
    "        ...\n",
    "                \n",
    "    @staticmethod\n",
    "    def serialize_instance(self, target_file_name):\n",
    "        pass\n",
    "    \n",
    "    @staticmethod\n",
    "    def load_from_file(self):\n",
    "        pass"
   ]
  },
  {
   "cell_type": "code",
   "execution_count": 38,
   "metadata": {},
   "outputs": [],
   "source": [
    "class GRSCode(LinearCode):\n",
    "    \n",
    "    def __init__(self, code=None, n=10, k=5, q=11):\n",
    "        if code == None:\n",
    "            self.code = self.generate_code(n, k, q)\n",
    "        else:\n",
    "            self.code = code\n",
    "    \n",
    "    def get_parity_check_matrix(self):\n",
    "        return self.code.parity_check_matrix()\n",
    "    \n",
    "    def generate_code(self, n, k, q):\n",
    "        F = GF(q)\n",
    "        return codes.GeneralizedReedSolomonCode(F.list()[:n], k)"
   ]
  },
  {
   "cell_type": "code",
   "execution_count": 39,
   "metadata": {},
   "outputs": [
    {
     "name": "stdout",
     "output_type": "stream",
     "text": [
      "[10  9  8  7  6  5  4  3  2  1]\n",
      "[ 0  9  5 10  2  3  2 10  5  9]\n",
      "[ 0  9 10  8  8  4  1  4  7  4]\n",
      "[ 0  9  9  2 10  9  6  6  1  3]\n",
      "[ 0  9  7  6  7  1  3  9  8  5]\n"
     ]
    }
   ],
   "source": [
    "code = GRSCode()\n",
    "print(code.get_parity_check_matrix())"
   ]
  },
  {
   "cell_type": "code",
   "execution_count": 40,
   "metadata": {},
   "outputs": [],
   "source": [
    "class CodeBasedCryptosystem(ABC):\n",
    "    def __init__(self, code, public_key=None, private_key=None):\n",
    "        self.code = code\n",
    "        if public_key == None or private_key == None:\n",
    "            self.public_key, self.private_key = self.generate_keypair()\n",
    "        else:\n",
    "            self.public_key = public_key\n",
    "            self.private_key = private_key\n",
    "    \n",
    "    @abstractmethod\n",
    "    def generate_keypair(self):\n",
    "        ...\n",
    "    \n",
    "    @abstractmethod\n",
    "    def encrypt(self, message):\n",
    "        ...\n",
    "    \n",
    "    @abstractmethod\n",
    "    def decrypt(self, cryptotext):\n",
    "        ..."
   ]
  },
  {
   "cell_type": "code",
   "execution_count": 41,
   "metadata": {},
   "outputs": [],
   "source": [
    "from math import floor\n",
    "\n",
    "class Niederreiter(CodeBasedCryptosystem):\n",
    "    def generate_random_nonsingular_matrix(self, size):\n",
    "        S = random_matrix(ZZ, size)\n",
    "        \n",
    "        while not S.is_singular():\n",
    "            S = random_matrix(ZZ, size)\n",
    "        \n",
    "        return S\n",
    "    \n",
    "    def generate_random_permutation_matrix(self, n):\n",
    "        return Permutations(n).random_element().to_matrix()\n",
    "    \n",
    "    def encrypt(self, message):\n",
    "        pass\n",
    "    \n",
    "    def decrypt(self, cryptotext):\n",
    "        pass\n",
    "    \n",
    "    def generate_keypair(self):\n",
    "        H = code.get_parity_check_matrix()\n",
    "        n, k = H.ncols(), H.nrows()\n",
    "        S = self.generate_random_nonsingular_matrix(n - k)\n",
    "        P = self.generate_random_permutation_matrix(n)\n",
    "        t = floor((n - k) / 2)\n",
    "        \n",
    "        return ((S * H * P, t), (H, S, P))"
   ]
  },
  {
   "cell_type": "code",
   "execution_count": 43,
   "metadata": {},
   "outputs": [
    {
     "name": "stdout",
     "output_type": "stream",
     "text": [
      "([ 0  0  0  0  0  0  0  0  0  0]\n",
      "[ 3  6  5  3  4  0  9  6  6  2]\n",
      "[ 2  8 10  6  8  7 10  2  3 10]\n",
      "[ 6 10  5 10  6  2  8 10  9  0]\n",
      "[ 5 10  5  6  6  8  0  3  1  0], 2)\n",
      "([10  9  8  7  6  5  4  3  2  1]\n",
      "[ 0  9  5 10  2  3  2 10  5  9]\n",
      "[ 0  9 10  8  8  4  1  4  7  4]\n",
      "[ 0  9  9  2 10  9  6  6  1  3]\n",
      "[ 0  9  7  6  7  1  3  9  8  5], [  0   0   0   0   0]\n",
      "[ -2  -1   0   1  -1]\n",
      "[  1  -1   1  17 -14]\n",
      "[  0   0   1  -2   2]\n",
      "[  0   1  -1   4   1], [0 0 0 0 0 0 0 0 0 1]\n",
      "[0 0 0 0 0 0 0 0 1 0]\n",
      "[1 0 0 0 0 0 0 0 0 0]\n",
      "[0 0 1 0 0 0 0 0 0 0]\n",
      "[0 0 0 0 0 1 0 0 0 0]\n",
      "[0 0 0 0 0 0 0 1 0 0]\n",
      "[0 0 0 0 1 0 0 0 0 0]\n",
      "[0 0 0 1 0 0 0 0 0 0]\n",
      "[0 1 0 0 0 0 0 0 0 0]\n",
      "[0 0 0 0 0 0 1 0 0 0])\n"
     ]
    }
   ],
   "source": [
    "nied = Niederreiter(code=code)\n",
    "print(nied.public_key)\n",
    "print(nied.private_key)"
   ]
  },
  {
   "cell_type": "code",
   "execution_count": null,
   "metadata": {},
   "outputs": [],
   "source": []
  }
 ],
 "metadata": {
  "kernelspec": {
   "display_name": "SageMath 9.2",
   "language": "sage",
   "name": "sagemath"
  },
  "language_info": {
   "codemirror_mode": {
    "name": "ipython",
    "version": 3
   },
   "file_extension": ".py",
   "mimetype": "text/x-python",
   "name": "python",
   "nbconvert_exporter": "python",
   "pygments_lexer": "ipython3",
   "version": "3.7.7"
  }
 },
 "nbformat": 4,
 "nbformat_minor": 4
}
