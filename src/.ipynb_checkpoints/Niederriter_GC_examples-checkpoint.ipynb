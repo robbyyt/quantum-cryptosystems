{
 "cells": [
  {
   "cell_type": "code",
   "execution_count": null,
   "metadata": {},
   "outputs": [],
   "source": [
    "# function to create a random message to encrypt\n",
    "\n",
    "def GetRandomMessageWithWeight(message_length, message_weight):\n",
    "    message = matrix(GF(2), 1, message_length)\n",
    "    rng = range(message_length)\n",
    "    for i in range(message_weight):\n",
    "        p = floor(len(rng)*random())\n",
    "        message[0,rng[p]] = 1 \n",
    "        rng=[*rng[:p],*rng[p+1:]]\n",
    "    return message\n",
    "\n",
    "crypto = Niederreiter()\n",
    "message = GetRandomMessageWithWeight(crypto._PublicKey.ncols(),crypto._g.degree())\n",
    "encrypted_message = crypto.encrypt(message)\n",
    "decrypted_message = crypto.decrypt(encrypted_message)\n",
    "print('random message:', message.str())\n",
    "print('encrypted message:', encrypted_message.str())\n",
    "print('decrpted message:', decrypted_message.str())\n",
    "print('decryption is: ', message==decrypted_message)"
   ]
  }
 ],
 "metadata": {
  "kernelspec": {
   "display_name": "SageMath 9.2",
   "language": "sage",
   "name": "sagemath"
  },
  "language_info": {
   "codemirror_mode": {
    "name": "ipython",
    "version": 3
   },
   "file_extension": ".py",
   "mimetype": "text/x-python",
   "name": "python",
   "nbconvert_exporter": "python",
   "pygments_lexer": "ipython3",
   "version": "3.7.7"
  }
 },
 "nbformat": 4,
 "nbformat_minor": 4
}
